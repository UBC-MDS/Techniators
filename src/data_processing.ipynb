{
 "cells": [
  {
   "cell_type": "code",
   "execution_count": 1,
   "id": "d728417b-8a55-4230-ac7e-c459a9581e9e",
   "metadata": {},
   "outputs": [
    {
     "name": "stderr",
     "output_type": "stream",
     "text": [
      "[nltk_data] Downloading package punkt to\n",
      "[nltk_data]     /Users/sarahabdelazim/nltk_data...\n",
      "[nltk_data]   Package punkt is already up-to-date!\n",
      "[nltk_data] Downloading package stopwords to\n",
      "[nltk_data]     /Users/sarahabdelazim/nltk_data...\n",
      "[nltk_data]   Package stopwords is already up-to-date!\n",
      "[nltk_data] Downloading package vader_lexicon to\n",
      "[nltk_data]     /Users/sarahabdelazim/nltk_data...\n",
      "[nltk_data]   Package vader_lexicon is already up-to-date!\n"
     ]
    }
   ],
   "source": [
    "import pandas as pd\n",
    "import datetime as dt\n",
    "from datetime import datetime\n",
    "import numpy as np\n",
    "import copy\n",
    "import re\n",
    "import sys\n",
    "from tqdm import tqdm\n",
    "import re\n",
    "import nltk\n",
    "import string\n",
    "nltk.download('punkt')\n",
    "nltk.download('stopwords')\n",
    "nltk.download(\"vader_lexicon\")\n",
    "from nltk.corpus import stopwords\n",
    "from nltk.tokenize import word_tokenize\n",
    "from nltk.stem.porter import PorterStemmer\n",
    "from wordcloud import WordCloud\n",
    "from nltk.sentiment.vader import SentimentIntensityAnalyzer\n",
    "sid = SentimentIntensityAnalyzer()"
   ]
  },
  {
   "cell_type": "code",
   "execution_count": 2,
   "id": "660c3757-756c-4772-b8bd-5c8ba628f3b4",
   "metadata": {},
   "outputs": [],
   "source": [
    "fake = pd.read_csv(\"data/raw/Fake.csv\")\n",
    "real = pd.read_csv(\"data/raw/true.csv\")\n",
    "fake['label'] = 'fake'\n",
    "real['label'] = 'real'"
   ]
  },
  {
   "cell_type": "code",
   "execution_count": 3,
   "id": "050e302c-16a4-4b64-9736-74b6c49e124e",
   "metadata": {},
   "outputs": [],
   "source": [
    "#Strip text columns from whitespace\n",
    "cols = ['title', 'text', 'date']\n",
    "real[cols] = real[cols].apply(lambda x: x.str.strip())\n",
    "fake[cols] = fake[cols].apply(lambda x: x.str.strip())"
   ]
  },
  {
   "cell_type": "code",
   "execution_count": 4,
   "id": "d0f0a964-3204-4e1d-adec-f1d560f1a408",
   "metadata": {},
   "outputs": [
    {
     "data": {
      "text/plain": [
       "0     The head of a conservative Republican faction...\n",
       "1     Transgender people will be allowed for the fi...\n",
       "2     The special counsel investigation of links be...\n",
       "3     Trump campaign adviser George Papadopoulos to...\n",
       "4     President Donald Trump called on the U.S. Pos...\n",
       "5     The White House said on Friday it was set to ...\n",
       "6     President Donald Trump said on Thursday he be...\n",
       "7     While the Fake News loves to talk about my so...\n",
       "8     Together, we are MAKING AMERICA GREAT AGAIN! ...\n",
       "9     Alabama Secretary of State John Merrill said ...\n",
       "Name: text, dtype: object"
      ]
     },
     "execution_count": 4,
     "metadata": {},
     "output_type": "execute_result"
    }
   ],
   "source": [
    "# Remove unecessary text from the beginning of the text column in real df.\n",
    "real['text'] = real['text'].str.replace('^(.*?)?\\s[-]', '', regex=True)\n",
    "real['text'].head(10)"
   ]
  },
  {
   "cell_type": "code",
   "execution_count": 5,
   "id": "c718f7a6-80b5-46bf-9a1d-c42aeee76283",
   "metadata": {},
   "outputs": [],
   "source": [
    "#real['text'].iloc[1151]"
   ]
  },
  {
   "cell_type": "code",
   "execution_count": 6,
   "id": "b98ea094-490a-4ee3-9fab-87df077837d8",
   "metadata": {},
   "outputs": [
    {
     "data": {
      "text/plain": [
       "title      0\n",
       "text       0\n",
       "subject    0\n",
       "date       0\n",
       "label      0\n",
       "dtype: int64"
      ]
     },
     "execution_count": 6,
     "metadata": {},
     "output_type": "execute_result"
    }
   ],
   "source": [
    "# Combining datasets\n",
    "all_news = pd.concat([real, fake])\n",
    "all_news = all_news.replace(r'^\\s*$', np.nan, regex=True)\n",
    "all_news = all_news.dropna(subset=['text'])\n",
    "all_news.isna().sum()"
   ]
  },
  {
   "cell_type": "code",
   "execution_count": 7,
   "id": "608f3476-b1bf-4fe9-a1d5-f4170a3916da",
   "metadata": {},
   "outputs": [
    {
     "data": {
      "text/plain": [
       "title       0\n",
       "text        0\n",
       "subject     0\n",
       "date       10\n",
       "label       0\n",
       "dtype: int64"
      ]
     },
     "execution_count": 7,
     "metadata": {},
     "output_type": "execute_result"
    }
   ],
   "source": [
    "# Cleaning date column\n",
    "\n",
    "match_condn = r'\\b([0-9])\\b'\n",
    "replace_str = r'0\\1'\n",
    "all_news['date'] = all_news['date'].str.replace(match_condn, replace_str, regex=True)\n",
    "\n",
    "replacement = {\n",
    "    \"^Jan\\s\": \"January \",\n",
    "    \"^Feb\\s\": \"February \",\n",
    "    \"^Mar\\s\": \"March \",\n",
    "    \"^Apr\\s\": \"April \",\n",
    "    \"^Jun\\s\": \"June \",\n",
    "    \"^Jul\\s\": \"July \",\n",
    "    \"^Aug\\s\": \"August \",\n",
    "    \"^Sep\\s\": \"September \",\n",
    "    \"^Oct\\s\": \"October \",\n",
    "    \"^Nov\\s\": \"November \",\n",
    "    \"^Dec\\s\": \"December \",\n",
    "    \"14[-]Feb[-]18$\": \"February 14, 2018\",\n",
    "    \"15[-]Feb[-]18$\": \"February 15, 2018\",\n",
    "    \"16[-]Feb[-]18$\": \"February 16, 2018\",\n",
    "    \"17[-]Feb[-]18$\": \"February 17, 2018\",\n",
    "    \"18[-]Feb[-]18$\": \"February 18, 2018\",\n",
    "    \"19[-]Feb[-]18$\": \"February 19, 2018\",\n",
    "}\n",
    "\n",
    "all_news['date'] = all_news['date'].replace(replacement, regex=True)\n",
    "\n",
    "# Converting date column to datetime\n",
    "all_news['date'] = pd.to_datetime(all_news['date'], format='%B %d, %Y', errors='coerce')\n",
    "all_news.isna().sum() #10 columns are empty because they were not dates in the first place"
   ]
  },
  {
   "cell_type": "code",
   "execution_count": 8,
   "id": "27c0ce30-0493-4f1d-aa16-964e102c2166",
   "metadata": {},
   "outputs": [
    {
     "data": {
      "text/html": [
       "<div>\n",
       "<style scoped>\n",
       "    .dataframe tbody tr th:only-of-type {\n",
       "        vertical-align: middle;\n",
       "    }\n",
       "\n",
       "    .dataframe tbody tr th {\n",
       "        vertical-align: top;\n",
       "    }\n",
       "\n",
       "    .dataframe thead th {\n",
       "        text-align: right;\n",
       "    }\n",
       "</style>\n",
       "<table border=\"1\" class=\"dataframe\">\n",
       "  <thead>\n",
       "    <tr style=\"text-align: right;\">\n",
       "      <th></th>\n",
       "      <th>title</th>\n",
       "      <th>text</th>\n",
       "      <th>subject</th>\n",
       "      <th>date</th>\n",
       "      <th>label</th>\n",
       "    </tr>\n",
       "  </thead>\n",
       "  <tbody>\n",
       "  </tbody>\n",
       "</table>\n",
       "</div>"
      ],
      "text/plain": [
       "Empty DataFrame\n",
       "Columns: [title, text, subject, date, label]\n",
       "Index: []"
      ]
     },
     "execution_count": 8,
     "metadata": {},
     "output_type": "execute_result"
    }
   ],
   "source": [
    "# Limiting categories of Subjects to only 2 (politicsNews and worldnews)\n",
    "all_news.query(\"subject == 'left-news'\")\n",
    "\n",
    "subject_replace = {'News':'other', \n",
    "                   'politics':'politicsNews', \n",
    "                   'left-news' : 'other',\n",
    "                   'Government News': 'politicsNews',\n",
    "                   'US_News': 'politicsNews',\n",
    "                   'Middle-east': 'worldnews' \n",
    "            }\n",
    "\n",
    "all_news = all_news.replace({\"subject\": subject_replace})\n",
    "\n",
    "#Test df to check subjects have been replaced\n",
    "all_news.query(\"subject == 'politics'\")"
   ]
  },
  {
   "cell_type": "code",
   "execution_count": 9,
   "id": "b16e8490-aedc-4970-90e8-edb92835f50d",
   "metadata": {},
   "outputs": [
    {
     "data": {
      "text/html": [
       "<div>\n",
       "<style scoped>\n",
       "    .dataframe tbody tr th:only-of-type {\n",
       "        vertical-align: middle;\n",
       "    }\n",
       "\n",
       "    .dataframe tbody tr th {\n",
       "        vertical-align: top;\n",
       "    }\n",
       "\n",
       "    .dataframe thead th {\n",
       "        text-align: right;\n",
       "    }\n",
       "</style>\n",
       "<table border=\"1\" class=\"dataframe\">\n",
       "  <thead>\n",
       "    <tr style=\"text-align: right;\">\n",
       "      <th></th>\n",
       "      <th>title_text</th>\n",
       "      <th>subject</th>\n",
       "      <th>date</th>\n",
       "      <th>label</th>\n",
       "    </tr>\n",
       "  </thead>\n",
       "  <tbody>\n",
       "    <tr>\n",
       "      <th>0</th>\n",
       "      <td>As U.S. budget fight looms, Republicans flip t...</td>\n",
       "      <td>politicsNews</td>\n",
       "      <td>2017-12-31</td>\n",
       "      <td>real</td>\n",
       "    </tr>\n",
       "    <tr>\n",
       "      <th>1</th>\n",
       "      <td>U.S. military to accept transgender recruits o...</td>\n",
       "      <td>politicsNews</td>\n",
       "      <td>2017-12-29</td>\n",
       "      <td>real</td>\n",
       "    </tr>\n",
       "    <tr>\n",
       "      <th>2</th>\n",
       "      <td>Senior U.S. Republican senator: 'Let Mr. Muell...</td>\n",
       "      <td>politicsNews</td>\n",
       "      <td>2017-12-31</td>\n",
       "      <td>real</td>\n",
       "    </tr>\n",
       "    <tr>\n",
       "      <th>3</th>\n",
       "      <td>FBI Russia probe helped by Australian diplomat...</td>\n",
       "      <td>politicsNews</td>\n",
       "      <td>2017-12-30</td>\n",
       "      <td>real</td>\n",
       "    </tr>\n",
       "    <tr>\n",
       "      <th>4</th>\n",
       "      <td>Trump wants Postal Service to charge 'much mor...</td>\n",
       "      <td>politicsNews</td>\n",
       "      <td>2017-12-29</td>\n",
       "      <td>real</td>\n",
       "    </tr>\n",
       "    <tr>\n",
       "      <th>...</th>\n",
       "      <td>...</td>\n",
       "      <td>...</td>\n",
       "      <td>...</td>\n",
       "      <td>...</td>\n",
       "    </tr>\n",
       "    <tr>\n",
       "      <th>23476</th>\n",
       "      <td>McPain: John McCain Furious That Iran Treated ...</td>\n",
       "      <td>worldnews</td>\n",
       "      <td>2016-01-16</td>\n",
       "      <td>fake</td>\n",
       "    </tr>\n",
       "    <tr>\n",
       "      <th>23477</th>\n",
       "      <td>JUSTICE? Yahoo Settles E-mail Privacy Class-ac...</td>\n",
       "      <td>worldnews</td>\n",
       "      <td>2016-01-16</td>\n",
       "      <td>fake</td>\n",
       "    </tr>\n",
       "    <tr>\n",
       "      <th>23478</th>\n",
       "      <td>Sunnistan: US and Allied ‘Safe Zone’ Plan to T...</td>\n",
       "      <td>worldnews</td>\n",
       "      <td>2016-01-15</td>\n",
       "      <td>fake</td>\n",
       "    </tr>\n",
       "    <tr>\n",
       "      <th>23479</th>\n",
       "      <td>How to Blow $700 Million: Al Jazeera America F...</td>\n",
       "      <td>worldnews</td>\n",
       "      <td>2016-01-14</td>\n",
       "      <td>fake</td>\n",
       "    </tr>\n",
       "    <tr>\n",
       "      <th>23480</th>\n",
       "      <td>10 U.S. Navy Sailors Held by Iranian Military ...</td>\n",
       "      <td>worldnews</td>\n",
       "      <td>2016-01-12</td>\n",
       "      <td>fake</td>\n",
       "    </tr>\n",
       "  </tbody>\n",
       "</table>\n",
       "<p>44267 rows × 4 columns</p>\n",
       "</div>"
      ],
      "text/plain": [
       "                                              title_text       subject  \\\n",
       "0      As U.S. budget fight looms, Republicans flip t...  politicsNews   \n",
       "1      U.S. military to accept transgender recruits o...  politicsNews   \n",
       "2      Senior U.S. Republican senator: 'Let Mr. Muell...  politicsNews   \n",
       "3      FBI Russia probe helped by Australian diplomat...  politicsNews   \n",
       "4      Trump wants Postal Service to charge 'much mor...  politicsNews   \n",
       "...                                                  ...           ...   \n",
       "23476  McPain: John McCain Furious That Iran Treated ...     worldnews   \n",
       "23477  JUSTICE? Yahoo Settles E-mail Privacy Class-ac...     worldnews   \n",
       "23478  Sunnistan: US and Allied ‘Safe Zone’ Plan to T...     worldnews   \n",
       "23479  How to Blow $700 Million: Al Jazeera America F...     worldnews   \n",
       "23480  10 U.S. Navy Sailors Held by Iranian Military ...     worldnews   \n",
       "\n",
       "            date label  \n",
       "0     2017-12-31  real  \n",
       "1     2017-12-29  real  \n",
       "2     2017-12-31  real  \n",
       "3     2017-12-30  real  \n",
       "4     2017-12-29  real  \n",
       "...          ...   ...  \n",
       "23476 2016-01-16  fake  \n",
       "23477 2016-01-16  fake  \n",
       "23478 2016-01-15  fake  \n",
       "23479 2016-01-14  fake  \n",
       "23480 2016-01-12  fake  \n",
       "\n",
       "[44267 rows x 4 columns]"
      ]
     },
     "execution_count": 9,
     "metadata": {},
     "output_type": "execute_result"
    }
   ],
   "source": [
    "all_news[\"title_text\"] = all_news[\"title\"] +\" \"+ all_news[\"text\"]\n",
    "all_news = all_news.drop(['title', 'text'], axis=1)\n",
    "cols = all_news.columns.tolist()\n",
    "cols = cols[-1:] + cols[:-1]\n",
    "all_news = all_news[cols]\n",
    "all_news"
   ]
  },
  {
   "cell_type": "code",
   "execution_count": 10,
   "id": "455dd1f2-6ad0-4569-8020-840a32905504",
   "metadata": {},
   "outputs": [],
   "source": [
    "# Feature Engineering\n",
    "\n",
    "## Get number of special characters:\n",
    "#all_news[\"count_special_characters\"] = all_news[\"title_text\"].apply(lambda p: sum( not p.isalpha() for q in p )))\n",
    "#all_news"
   ]
  },
  {
   "cell_type": "code",
   "execution_count": 11,
   "id": "c8215842-0fec-49e4-8a42-bbcb2253bf6a",
   "metadata": {},
   "outputs": [
    {
     "data": {
      "text/plain": [
       "' \\t\\n\\r\\x0b\\x0c'"
      ]
     },
     "execution_count": 11,
     "metadata": {},
     "output_type": "execute_result"
    }
   ],
   "source": [
    "alphabets = string.ascii_letters\n",
    "digits = string.digits\n",
    "special_characters = string.punctuation\n",
    "space = string.whitespace\n",
    "space"
   ]
  },
  {
   "cell_type": "code",
   "execution_count": 12,
   "id": "302be334-8aa8-41fb-a86e-a6253814315d",
   "metadata": {},
   "outputs": [],
   "source": [
    "def special_characters(text):\n",
    "    full_list = string.ascii_uppercase + string.ascii_lowercase + string.digits + string.whitespace\n",
    "    counter = 0\n",
    "    for i in text:\n",
    "        if i not in full_list:\n",
    "            counter += 1\n",
    "    return counter"
   ]
  },
  {
   "cell_type": "code",
   "execution_count": 13,
   "id": "5527f7c1-d7c7-4951-863f-70e0edf22bb8",
   "metadata": {},
   "outputs": [],
   "source": [
    "full_list = string.ascii_uppercase + string.ascii_lowercase + string.digits + string.whitespace\n",
    "\n",
    "all_news['special_char_count'] = all_news['title_text'].str.count(f'[^{re.escape(full_list)}]')\n",
    "all_news['uppercase_letter_count'] = all_news['title_text'].str.findall(r'[A-Z]').str.len()"
   ]
  },
  {
   "cell_type": "code",
   "execution_count": 14,
   "id": "67354ca8-2689-49b4-bf3e-f0fed21cd45a",
   "metadata": {},
   "outputs": [],
   "source": [
    "def get_sentiment(text):\n",
    "    \"\"\"\n",
    "    Returns the compound score representing the sentiment: -1 (most extreme negative) and +1 (most extreme positive)\n",
    "    The compound score is a normalized score calculated by summing the valence scores of each word in the lexicon.\n",
    "\n",
    "    Parameters:\n",
    "    ------\n",
    "    text: (str)\n",
    "    the input text\n",
    "\n",
    "    Returns:\n",
    "    -------\n",
    "    sentiment of the text: (str)\n",
    "    \"\"\"\n",
    "    scores = sid.polarity_scores(text)\n",
    "    return scores[\"compound\"]"
   ]
  },
  {
   "cell_type": "code",
   "execution_count": 15,
   "id": "bdd8725f-f0cf-4bf8-9d20-c23f837a8d9f",
   "metadata": {},
   "outputs": [],
   "source": [
    "all_news = all_news.assign(sentiment_score=all_news[\"title_text\"].apply(get_sentiment))"
   ]
  },
  {
   "cell_type": "code",
   "execution_count": 16,
   "id": "883a495e-9fe9-4b0c-b381-cf184c118429",
   "metadata": {},
   "outputs": [],
   "source": [
    "all_news.to_csv(\"data/processed/all_news.csv\", index=False)"
   ]
  }
 ],
 "metadata": {
  "kernelspec": {
   "display_name": "Python 3 (ipykernel)",
   "language": "python",
   "name": "python3"
  },
  "language_info": {
   "codemirror_mode": {
    "name": "ipython",
    "version": 3
   },
   "file_extension": ".py",
   "mimetype": "text/x-python",
   "name": "python",
   "nbconvert_exporter": "python",
   "pygments_lexer": "ipython3",
   "version": "3.10.8"
  },
  "vscode": {
   "interpreter": {
    "hash": "87e80593edd4808bea4470c9828883b3187473587a75262f49ea2ba91fabc2ee"
   }
  }
 },
 "nbformat": 4,
 "nbformat_minor": 5
}
