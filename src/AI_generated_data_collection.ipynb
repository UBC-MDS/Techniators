{
 "cells": [
  {
   "attachments": {},
   "cell_type": "markdown",
   "metadata": {},
   "source": [
    "# Future Work - Use ChatGPT API to Collect AI Generated News Article"
   ]
  },
  {
   "cell_type": "code",
   "execution_count": 6,
   "metadata": {},
   "outputs": [],
   "source": [
    "import pandas as pd\n",
    "import openai\n",
    "import time\n",
    "\n",
    "# Set up OpenAI API credentials\n",
    "openai.api_key = \"<OpenAI API Key>\""
   ]
  },
  {
   "attachments": {},
   "cell_type": "markdown",
   "metadata": {},
   "source": [
    "## Generate a News Articles"
   ]
  },
  {
   "cell_type": "code",
   "execution_count": 30,
   "metadata": {},
   "outputs": [
    {
     "name": "stdout",
     "output_type": "stream",
     "text": [
      "Article 1 :\n",
      "The outbreak of COVID-19 has left the world scrambling for answers. The virus, which originated in China, has spread to over two dozen countries and has killed over 1,700 people. The World Health Organization has declared the outbreak a global health emergency, and countries are working to contain the spread of the virus.\n",
      "\n",
      "There is still much unknown about COVID-19, but scientists are working around the clock to learn more. What is known is that the virus is highly contagious and can cause severe respiratory illness. Symptoms include fever, coughing, and difficulty breathing.\n",
      "\n",
      "The best way to prevent the spread of COVID-19 is to practice good hygiene and to avoid close contact with people who are sick. If you are sick, it is important to stay home and to see a doctor.\n",
      "\n",
      "The outbreak of COVID-19 is a rapidly evolving situation and we will continue to provide updates as more information becomes available.\n",
      "\n",
      "\n",
      "Article 2 :\n",
      "The novel coronavirus, now known as COVID-19, has spread to over 60 countries since it was first detected in China in December 2019. The World Health Organization has declared the outbreak a Public Health Emergency of International Concern.\n",
      "\n",
      "Over 77,000 people have been infected with the virus and over 2,000 have died, the vast majority in China. However, the number of new cases outside of China is growing rapidly.\n",
      "\n",
      "There is no vaccine or specific treatment for COVID-19, which is a respiratory illness that can cause severe symptoms, including pneumonia, particularly in people with underlying health conditions.\n",
      "\n",
      "The best way to prevent infection is to avoid exposure to the virus, which is thought to spread through close contact with respiratory secretions, such as saliva, mucus or blood, from an infected person.\n",
      "\n",
      "Covering your nose and mouth when you sneeze and cough, washing your hands often and avoiding close contact with people who are sick are all good ways to protect yourself.\n",
      "\n",
      "The outbreak has caused widespread panic and travel restrictions, with many countries imposing entry bans on travelers from China. The economic impact is already being felt, with businesses across the globe feeling the effects of the virus.\n",
      "\n",
      "The situation is evolving rapidly and we will continue to provide updates as more information becomes available.\n",
      "\n",
      "\n",
      "Article 3 :\n",
      "The outbreak of COVID-19 is a global pandemic that has impacted countries across the world. The virus, which is a novel coronavirus, was first detected in China in December 2019 and has since spread to over 100 countries. As of March 2020, there have been over 118,000 confirmed cases of the virus and over 4,200 deaths. The World Health Organization has declared the outbreak a Public Health Emergency of International Concern.\n",
      "\n",
      "There is no vaccine or specific treatment for COVID-19 and the virus is believed to cause severe respiratory illness in people of all ages. Symptoms of the virus include fever, coughing and difficulty breathing. The virus is believed to spread through close contact with an infected person, through respiratory droplets when an infected person coughs or sneezes.\n",
      "\n",
      "The outbreak has caused widespread panic and disruption across the world, with many countries imposing travel restrictions and banning public gatherings in an effort to contain the spread of the virus. Hospitals in countries where the virus has spread are struggling to cope with the influx of patients and there is a shortage of protective gear for healthcare workers.\n",
      "\n",
      "The economic impact of the outbreak has also been significant, with global stock markets plunging and businesses across sectors feeling the pinch. The tourism and aviation industries have been hit particularly hard, with airlines suspending flights and hotels closing down.\n",
      "\n",
      "The outbreak of COVID-19 is a global crisis that is having a major impact on countries across the world. The virus has caused widespread panic and disruption, and the economic impact is already being felt by businesses across sectors.\n",
      "\n",
      "\n",
      "Article 4 :\n",
      "The outbreak of COVID-19 has caused widespread panic and confusion across the globe. The virus, which originated in China, has now spread to over 60 countries, with over 80,000 confirmed cases and over 2,700 deaths. The World Health Organization has declared the outbreak a global health emergency, and countries are scrambling to contain the spread of the virus.\n",
      "\n",
      "There is still much unknown about COVID-19, but what we do know is that it is highly contagious and can cause severe respiratory illness. Symptoms include fever, coughing, and difficulty breathing. The virus is believed to cause a significant number of deaths, particularly in elderly and vulnerable populations.\n",
      "\n",
      "The best way to protect yourself from the virus is to practice good hygiene and avoid close contact with people who are sick. If you do become sick, it is important to seek medical attention early and isolate yourself from others to prevent further spread of the virus.\n",
      "\n",
      "The outbreak of COVID-19 has caused widespread disruption and worry around the world. We hope that with more research and information, we can better understand and combat this virus. In the meantime, please take care of yourselves and each other.\n",
      "\n",
      "\n",
      "Article 5 :\n",
      "As the world grapples with the ongoing COVID-19 pandemic, the virus continues to spread across the globe. As of June 2020, there have been over 8.7 million confirmed cases of COVID-19, with over 468,000 deaths. The United States has been one of the hardest hit countries, with over 2.3 million confirmed cases and over 120,000 deaths.\n",
      "\n",
      "The COVID-19 pandemic has caused widespread panic and disruption across the globe. Businesses have been forced to close, schools have been shuttered, and people have been told to stay home in an effort to slow the spread of the virus. The pandemic has also had a devastating economic impact, with millions of people losing their jobs and businesses struggling to stay afloat.\n",
      "\n",
      "The pandemic has also highlighted the importance of global cooperation and coordination in the fight against a common threat. Countries have been working together to share information and resources in an effort to find a cure for the virus. The World Health Organization has been leading the charge in this effort, providing guidance and support to countries around the world.\n",
      "\n",
      "As the COVID-19 pandemic continues, the world will continue to face challenges. But, through cooperation and coordination, we will eventually overcome this virus.\n",
      "\n",
      "\n"
     ]
    }
   ],
   "source": [
    "engine=\"text-davinci-002\"\n",
    "\n",
    "# Define the topic you want to generate news articles for\n",
    "topic = \"COVID-19\"\n",
    "\n",
    "# Set up the prompt template for generating news articles\n",
    "prompt = \"Write a news article about \" + topic + \".\"\n",
    "\n",
    "# Generate 5 news articles using a for loop\n",
    "for i in range(5):\n",
    "    # Generate text from GPT-3\n",
    "    response = openai.Completion.create(\n",
    "        engine=engine,\n",
    "        prompt=prompt,\n",
    "        max_tokens=1024,\n",
    "        n=1,\n",
    "        stop=None,\n",
    "        temperature=0.7,\n",
    "    )\n",
    "\n",
    "    # Extract the generated text from the response\n",
    "    article_text = response.choices[0].text.strip()\n",
    "\n",
    "    # Print the generated article\n",
    "    print(\"Article\", i+1, \":\")\n",
    "    print(article_text)\n",
    "    print(\"\\n\")\n",
    "\n",
    "    # Pause for a few seconds to avoid hitting the OpenAI API rate limit\n",
    "    time.sleep(3)"
   ]
  },
  {
   "attachments": {},
   "cell_type": "markdown",
   "metadata": {},
   "source": [
    "## Collect AI Genereated News from a Given Set of Topics"
   ]
  },
  {
   "cell_type": "code",
   "execution_count": null,
   "metadata": {},
   "outputs": [],
   "source": [
    "# Set up GPT-3 API engine and parameters\n",
    "engine = \"text-davinci-002\"\n",
    "max_tokens = 1024\n",
    "temperature = 0.5\n",
    "\n",
    "# Define a list of real news topics\n",
    "real_news_topics = [\"politics\", \n",
    "                    \"business\", \n",
    "                    \"technology\", \n",
    "                    \"entertainment\",\n",
    "                    \"Global Climate Change Conference\",\n",
    "                    \"Emerging Technologies in Healthcare\",\n",
    "                    \"Space Exploration and Colonization\",\n",
    "                    \"The Future of Education\",\n",
    "                    \"Economic Impact of the Pandemic on Small Businesses\",\n",
    "                    \"Cybersecurity and Data Privacy\",\n",
    "                    \"Innovations in Transportation\",\n",
    "                    \"Humanitarian Crisis in Afghanistan\",\n",
    "                    \"Evolution of Artificial Intelligence and its Implications\",\n",
    "                    \"International Diplomacy in the 21st Century\"]\n",
    "\n",
    "# Create an empty dataframe to store the news articles and titles\n",
    "df_news = pd.DataFrame(columns=[\"title\", \"article\"])\n",
    "\n",
    "# Loop over each real news topic to generate a news article and title\n",
    "for topic in real_news_topics:\n",
    "    df_temp = pd.DataFrame(columns=[\"title\", \"article\"])\n",
    "    prompt = f\"Generate a news title and article about {topic}\"\n",
    "    response = openai.Completion.create(\n",
    "        engine=engine,\n",
    "        prompt=prompt,\n",
    "        max_tokens=max_tokens,\n",
    "        temperature=temperature,\n",
    "        n=20,\n",
    "        stop=None,\n",
    "        frequency_penalty=0,\n",
    "        presence_penalty=0\n",
    "    )\n",
    "\n",
    "    for response_i in response.choices:\n",
    "        generated_text = response_i.text.strip()\n",
    "        text_lines = generated_text.split('\\n')\n",
    "        news_title = text_lines[0].strip()\n",
    "        news_article = '\\n'.join(text_lines[1:]).strip()\n",
    "        df_news = pd.concat([df_news, pd.DataFrame({\"title\": [news_title], \"article\": [news_article]})], ignore_index=True)\n",
    "        df_temp = pd.concat([df_temp, pd.DataFrame({\"title\": [news_title], \"article\": [news_article]})], ignore_index=True)\n",
    "\n",
    "    # output df_temp (batch)\n",
    "    store_topic = \"_\".join(topic.split())\n",
    "    df_temp.to_csv('news_'+store_topic+'.csv', index=False)\n",
    "    # Pause for a few seconds to avoid hitting the OpenAI API rate limit\n",
    "    time.sleep(10)\n",
    "# Display the generated news articles and titles dataframe\n",
    "print(df_news)"
   ]
  },
  {
   "cell_type": "code",
   "execution_count": null,
   "metadata": {},
   "outputs": [],
   "source": [
    "# run the below line to output the CSV file\n",
    "df_news.to_csv('AI_generated_news.csv', index=False)"
   ]
  }
 ],
 "metadata": {
  "kernelspec": {
   "display_name": "ml_env",
   "language": "python",
   "name": "python3"
  },
  "language_info": {
   "codemirror_mode": {
    "name": "ipython",
    "version": 3
   },
   "file_extension": ".py",
   "mimetype": "text/x-python",
   "name": "python",
   "nbconvert_exporter": "python",
   "pygments_lexer": "ipython3",
   "version": "3.10.8"
  },
  "orig_nbformat": 4
 },
 "nbformat": 4,
 "nbformat_minor": 2
}
