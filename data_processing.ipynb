{
 "cells": [
  {
   "cell_type": "code",
   "execution_count": 1,
   "id": "d728417b-8a55-4230-ac7e-c459a9581e9e",
   "metadata": {},
   "outputs": [],
   "source": [
    "import pandas as pd\n",
    "import datetime as dt\n",
    "from datetime import datetime\n",
    "import numpy as np\n",
    "import re"
   ]
  },
  {
   "cell_type": "code",
   "execution_count": 2,
   "id": "660c3757-756c-4772-b8bd-5c8ba628f3b4",
   "metadata": {},
   "outputs": [],
   "source": [
    "fake = pd.read_csv(\"data/raw/Fake.csv\")\n",
    "real = pd.read_csv(\"data/raw/true.csv\")"
   ]
  },
  {
   "cell_type": "code",
   "execution_count": 3,
   "id": "a102080d-d65f-4908-9482-2e3f8b6f7782",
   "metadata": {},
   "outputs": [],
   "source": [
    "# np.set_printoptions(threshold=np.inf)\n",
    "# arr = true[\"date\"].to_numpy()\n",
    "# #print(arr)"
   ]
  },
  {
   "cell_type": "code",
   "execution_count": 4,
   "id": "04c94460-5024-43aa-97eb-a3be3b43ab54",
   "metadata": {},
   "outputs": [],
   "source": [
    "fake['label'] = 'fake'\n",
    "real['label'] = 'real'"
   ]
  },
  {
   "cell_type": "code",
   "execution_count": 5,
   "id": "dc70d87c-db2e-455d-90fc-63deb6c343f3",
   "metadata": {},
   "outputs": [],
   "source": [
    "pat1 = r'^[A-Z]+'\n",
    "pat2 = r'(/)[A-Z]+'\n",
    "pat3 = r'\\(Reuters\\)\\s[-]\\s'\n",
    "combined_pat = r'|'.join((pat1, pat2, pat3))"
   ]
  },
  {
   "cell_type": "code",
   "execution_count": 6,
   "id": "92a87035-a2b0-4483-a5c8-69906a6dff63",
   "metadata": {},
   "outputs": [
    {
     "data": {
      "text/plain": [
       "0         The head of a conservative Republican faction...\n",
       "1         Transgender people will be allowed for the fi...\n",
       "2         The special counsel investigation of links be...\n",
       "3         Trump campaign adviser George Papadopoulos to...\n",
       "4         President Donald Trump called on the U.S. Pos...\n",
       "                               ...                        \n",
       "21412     NATO allies on Tuesday welcomed President Don...\n",
       "21413     LexisNexis, a provider of legal, regulatory a...\n",
       "21414     In the shadow of disused Soviet-era factories...\n",
       "21415     Vatican Secretary of State Cardinal Pietro Pa...\n",
       "21416     Indonesia will buy 11 Sukhoi fighter jets wor...\n",
       "Name: text, Length: 21417, dtype: object"
      ]
     },
     "execution_count": 6,
     "metadata": {},
     "output_type": "execute_result"
    }
   ],
   "source": [
    "real['text'] = real['text'].str.replace(combined_pat, '', regex=True)\n",
    "real['text']"
   ]
  },
  {
   "cell_type": "code",
   "execution_count": 7,
   "id": "c7b40517-2ff3-4ddd-aa0e-4455cf7a49a1",
   "metadata": {},
   "outputs": [
    {
     "data": {
      "text/plain": [
       "title      0\n",
       "text       0\n",
       "subject    0\n",
       "date       0\n",
       "label      0\n",
       "dtype: int64"
      ]
     },
     "execution_count": 7,
     "metadata": {},
     "output_type": "execute_result"
    }
   ],
   "source": [
    "all_news = pd.concat([real, fake])\n",
    "all_news = all_news.replace(r'^\\s*$', np.nan, regex=True)\n",
    "all_news = all_news.dropna(subset=['text'])\n",
    "all_news.isna().sum()"
   ]
  },
  {
   "cell_type": "code",
   "execution_count": 8,
   "id": "fd757f06-77f4-4f74-b588-a1895a597c87",
   "metadata": {},
   "outputs": [],
   "source": [
    "match_condn = r'\\b([0-9])\\b'\n",
    "replace_str = r'0\\1'\n",
    "\n",
    "all_news['date'] = all_news['date'].str.replace(match_condn, replace_str, regex=True)"
   ]
  },
  {
   "cell_type": "code",
   "execution_count": 9,
   "id": "0052a4c0-f8ff-4aca-b21a-9cc7d3a625fe",
   "metadata": {},
   "outputs": [],
   "source": [
    "all_news.date = all_news.date.str.strip()"
   ]
  },
  {
   "cell_type": "code",
   "execution_count": 10,
   "id": "4bdc3a0a-4813-499d-8a1e-e3d382792756",
   "metadata": {},
   "outputs": [],
   "source": [
    "replacement = {\n",
    "    \"^Jan\\s\": \"January \",\n",
    "    \"^Feb\\s\": \"February \",\n",
    "    \"^Mar\\s\": \"March \",\n",
    "    \"^Apr\\s\": \"April \",\n",
    "    \"^Jun\\s\": \"June \",\n",
    "    \"^Jul\\s\": \"July \",\n",
    "    \"^Aug\\s\": \"August \",\n",
    "    \"^Sep\\s\": \"September \",\n",
    "    \"^Oct\\s\": \"October \",\n",
    "    \"^Nov\\s\": \"November \",\n",
    "    \"^Dec\\s\": \"December \",\n",
    "    \"14[-]Feb[-]18$\": \"February 14, 2018\",\n",
    "    \"15[-]Feb[-]18$\": \"February 15, 2018\",\n",
    "    \"16[-]Feb[-]18$\": \"February 16, 2018\",\n",
    "    \"17[-]Feb[-]18$\": \"February 17, 2018\",\n",
    "    \"18[-]Feb[-]18$\": \"February 18, 2018\",\n",
    "    \"19[-]Feb[-]18$\": \"February 19, 2018\",\n",
    "}\n",
    "\n",
    "all_news['date'] = all_news['date'].replace(replacement, regex=True)"
   ]
  },
  {
   "cell_type": "code",
   "execution_count": 11,
   "id": "1ce16d40-64cf-452b-b5fe-f9c7c759056d",
   "metadata": {},
   "outputs": [],
   "source": [
    "# np.set_printoptions(threshold=np.inf)\n",
    "# arr = all_news['date'].to_numpy()\n",
    "# print(arr)"
   ]
  },
  {
   "cell_type": "code",
   "execution_count": 12,
   "id": "530777d4-1097-4390-a251-ce5c0ecee1bc",
   "metadata": {},
   "outputs": [
    {
     "data": {
      "text/html": [
       "<div>\n",
       "<style scoped>\n",
       "    .dataframe tbody tr th:only-of-type {\n",
       "        vertical-align: middle;\n",
       "    }\n",
       "\n",
       "    .dataframe tbody tr th {\n",
       "        vertical-align: top;\n",
       "    }\n",
       "\n",
       "    .dataframe thead th {\n",
       "        text-align: right;\n",
       "    }\n",
       "</style>\n",
       "<table border=\"1\" class=\"dataframe\">\n",
       "  <thead>\n",
       "    <tr style=\"text-align: right;\">\n",
       "      <th></th>\n",
       "      <th>title</th>\n",
       "      <th>text</th>\n",
       "      <th>subject</th>\n",
       "      <th>date</th>\n",
       "      <th>label</th>\n",
       "    </tr>\n",
       "  </thead>\n",
       "  <tbody>\n",
       "    <tr>\n",
       "      <th>0</th>\n",
       "      <td>As U.S. budget fight looms, Republicans flip t...</td>\n",
       "      <td>The head of a conservative Republican faction...</td>\n",
       "      <td>politicsNews</td>\n",
       "      <td>2017-12-31</td>\n",
       "      <td>real</td>\n",
       "    </tr>\n",
       "    <tr>\n",
       "      <th>1</th>\n",
       "      <td>U.S. military to accept transgender recruits o...</td>\n",
       "      <td>Transgender people will be allowed for the fi...</td>\n",
       "      <td>politicsNews</td>\n",
       "      <td>2017-12-29</td>\n",
       "      <td>real</td>\n",
       "    </tr>\n",
       "    <tr>\n",
       "      <th>2</th>\n",
       "      <td>Senior U.S. Republican senator: 'Let Mr. Muell...</td>\n",
       "      <td>The special counsel investigation of links be...</td>\n",
       "      <td>politicsNews</td>\n",
       "      <td>2017-12-31</td>\n",
       "      <td>real</td>\n",
       "    </tr>\n",
       "    <tr>\n",
       "      <th>3</th>\n",
       "      <td>FBI Russia probe helped by Australian diplomat...</td>\n",
       "      <td>Trump campaign adviser George Papadopoulos to...</td>\n",
       "      <td>politicsNews</td>\n",
       "      <td>2017-12-30</td>\n",
       "      <td>real</td>\n",
       "    </tr>\n",
       "    <tr>\n",
       "      <th>4</th>\n",
       "      <td>Trump wants Postal Service to charge 'much mor...</td>\n",
       "      <td>President Donald Trump called on the U.S. Pos...</td>\n",
       "      <td>politicsNews</td>\n",
       "      <td>2017-12-29</td>\n",
       "      <td>real</td>\n",
       "    </tr>\n",
       "    <tr>\n",
       "      <th>...</th>\n",
       "      <td>...</td>\n",
       "      <td>...</td>\n",
       "      <td>...</td>\n",
       "      <td>...</td>\n",
       "      <td>...</td>\n",
       "    </tr>\n",
       "    <tr>\n",
       "      <th>23476</th>\n",
       "      <td>McPain: John McCain Furious That Iran Treated ...</td>\n",
       "      <td>21st Century Wire says As 21WIRE reported earl...</td>\n",
       "      <td>Middle-east</td>\n",
       "      <td>2016-01-16</td>\n",
       "      <td>fake</td>\n",
       "    </tr>\n",
       "    <tr>\n",
       "      <th>23477</th>\n",
       "      <td>JUSTICE? Yahoo Settles E-mail Privacy Class-ac...</td>\n",
       "      <td>21st Century Wire says It s a familiar theme. ...</td>\n",
       "      <td>Middle-east</td>\n",
       "      <td>2016-01-16</td>\n",
       "      <td>fake</td>\n",
       "    </tr>\n",
       "    <tr>\n",
       "      <th>23478</th>\n",
       "      <td>Sunnistan: US and Allied ‘Safe Zone’ Plan to T...</td>\n",
       "      <td>Patrick Henningsen  21st Century WireRemember ...</td>\n",
       "      <td>Middle-east</td>\n",
       "      <td>2016-01-15</td>\n",
       "      <td>fake</td>\n",
       "    </tr>\n",
       "    <tr>\n",
       "      <th>23479</th>\n",
       "      <td>How to Blow $700 Million: Al Jazeera America F...</td>\n",
       "      <td>21st Century Wire says Al Jazeera America will...</td>\n",
       "      <td>Middle-east</td>\n",
       "      <td>2016-01-14</td>\n",
       "      <td>fake</td>\n",
       "    </tr>\n",
       "    <tr>\n",
       "      <th>23480</th>\n",
       "      <td>10 U.S. Navy Sailors Held by Iranian Military ...</td>\n",
       "      <td>21st Century Wire says As 21WIRE predicted in ...</td>\n",
       "      <td>Middle-east</td>\n",
       "      <td>2016-01-12</td>\n",
       "      <td>fake</td>\n",
       "    </tr>\n",
       "  </tbody>\n",
       "</table>\n",
       "<p>44267 rows × 5 columns</p>\n",
       "</div>"
      ],
      "text/plain": [
       "                                                   title  \\\n",
       "0      As U.S. budget fight looms, Republicans flip t...   \n",
       "1      U.S. military to accept transgender recruits o...   \n",
       "2      Senior U.S. Republican senator: 'Let Mr. Muell...   \n",
       "3      FBI Russia probe helped by Australian diplomat...   \n",
       "4      Trump wants Postal Service to charge 'much mor...   \n",
       "...                                                  ...   \n",
       "23476  McPain: John McCain Furious That Iran Treated ...   \n",
       "23477  JUSTICE? Yahoo Settles E-mail Privacy Class-ac...   \n",
       "23478  Sunnistan: US and Allied ‘Safe Zone’ Plan to T...   \n",
       "23479  How to Blow $700 Million: Al Jazeera America F...   \n",
       "23480  10 U.S. Navy Sailors Held by Iranian Military ...   \n",
       "\n",
       "                                                    text       subject  \\\n",
       "0       The head of a conservative Republican faction...  politicsNews   \n",
       "1       Transgender people will be allowed for the fi...  politicsNews   \n",
       "2       The special counsel investigation of links be...  politicsNews   \n",
       "3       Trump campaign adviser George Papadopoulos to...  politicsNews   \n",
       "4       President Donald Trump called on the U.S. Pos...  politicsNews   \n",
       "...                                                  ...           ...   \n",
       "23476  21st Century Wire says As 21WIRE reported earl...   Middle-east   \n",
       "23477  21st Century Wire says It s a familiar theme. ...   Middle-east   \n",
       "23478  Patrick Henningsen  21st Century WireRemember ...   Middle-east   \n",
       "23479  21st Century Wire says Al Jazeera America will...   Middle-east   \n",
       "23480  21st Century Wire says As 21WIRE predicted in ...   Middle-east   \n",
       "\n",
       "            date label  \n",
       "0     2017-12-31  real  \n",
       "1     2017-12-29  real  \n",
       "2     2017-12-31  real  \n",
       "3     2017-12-30  real  \n",
       "4     2017-12-29  real  \n",
       "...          ...   ...  \n",
       "23476 2016-01-16  fake  \n",
       "23477 2016-01-16  fake  \n",
       "23478 2016-01-15  fake  \n",
       "23479 2016-01-14  fake  \n",
       "23480 2016-01-12  fake  \n",
       "\n",
       "[44267 rows x 5 columns]"
      ]
     },
     "execution_count": 12,
     "metadata": {},
     "output_type": "execute_result"
    }
   ],
   "source": [
    "all_news['date'] = pd.to_datetime(all_news['date'], format='%B %d, %Y', errors='coerce')\n",
    "all_news"
   ]
  },
  {
   "cell_type": "code",
   "execution_count": 13,
   "id": "47618d52-be52-4cf9-bb85-d3f44f4af2ae",
   "metadata": {},
   "outputs": [
    {
     "data": {
      "text/plain": [
       "title       0\n",
       "text        0\n",
       "subject     0\n",
       "date       10\n",
       "label       0\n",
       "dtype: int64"
      ]
     },
     "execution_count": 13,
     "metadata": {},
     "output_type": "execute_result"
    }
   ],
   "source": [
    "all_news.isna().sum()"
   ]
  },
  {
   "cell_type": "code",
   "execution_count": 14,
   "id": "65686d00-fcc5-4770-b711-2638614ce2ff",
   "metadata": {},
   "outputs": [],
   "source": [
    "# all_news.to_csv(\"data/processed/all_news.csv\", index=False)"
   ]
  },
  {
   "cell_type": "code",
   "execution_count": 15,
   "id": "2bc72609",
   "metadata": {},
   "outputs": [
    {
     "data": {
      "text/html": [
       "<div>\n",
       "<style scoped>\n",
       "    .dataframe tbody tr th:only-of-type {\n",
       "        vertical-align: middle;\n",
       "    }\n",
       "\n",
       "    .dataframe tbody tr th {\n",
       "        vertical-align: top;\n",
       "    }\n",
       "\n",
       "    .dataframe thead th {\n",
       "        text-align: right;\n",
       "    }\n",
       "</style>\n",
       "<table border=\"1\" class=\"dataframe\">\n",
       "  <thead>\n",
       "    <tr style=\"text-align: right;\">\n",
       "      <th></th>\n",
       "      <th>title</th>\n",
       "      <th>text</th>\n",
       "      <th>subject</th>\n",
       "      <th>date</th>\n",
       "      <th>label</th>\n",
       "    </tr>\n",
       "  </thead>\n",
       "  <tbody>\n",
       "    <tr>\n",
       "      <th>17461</th>\n",
       "      <td>BARBRA STREISAND Gives Up On Dream Of Impeachi...</td>\n",
       "      <td>Barbra Streisand was an Obama sycophant and on...</td>\n",
       "      <td>left-news</td>\n",
       "      <td>2017-12-31</td>\n",
       "      <td>fake</td>\n",
       "    </tr>\n",
       "    <tr>\n",
       "      <th>17462</th>\n",
       "      <td>WATCH: SENATOR LINDSEY GRAHAM DROPS BOMBSHELL…...</td>\n",
       "      <td>Everyone suspected the sketchy Steele Dossier ...</td>\n",
       "      <td>left-news</td>\n",
       "      <td>2017-12-31</td>\n",
       "      <td>fake</td>\n",
       "    </tr>\n",
       "    <tr>\n",
       "      <th>17463</th>\n",
       "      <td>“CONSERVATIVE GAY GUY” BLASTS Pence’s Aspen Ne...</td>\n",
       "      <td>It s been said that good fences make good neig...</td>\n",
       "      <td>left-news</td>\n",
       "      <td>2017-12-30</td>\n",
       "      <td>fake</td>\n",
       "    </tr>\n",
       "    <tr>\n",
       "      <th>17464</th>\n",
       "      <td>WHITE COLLEGE SNOWFLAKES Can ‘Identify’ As Bla...</td>\n",
       "      <td>The latest video from Campus Reform shows just...</td>\n",
       "      <td>left-news</td>\n",
       "      <td>2017-12-30</td>\n",
       "      <td>fake</td>\n",
       "    </tr>\n",
       "    <tr>\n",
       "      <th>17465</th>\n",
       "      <td>BILL NYE The FAKE Science Guy THREATENS Conser...</td>\n",
       "      <td>Friday on MSNBC, climate activist Bill Nye war...</td>\n",
       "      <td>left-news</td>\n",
       "      <td>2017-12-30</td>\n",
       "      <td>fake</td>\n",
       "    </tr>\n",
       "    <tr>\n",
       "      <th>...</th>\n",
       "      <td>...</td>\n",
       "      <td>...</td>\n",
       "      <td>...</td>\n",
       "      <td>...</td>\n",
       "      <td>...</td>\n",
       "    </tr>\n",
       "    <tr>\n",
       "      <th>21915</th>\n",
       "      <td>ENTITLED IRS ETHICS LAWYER DISBARRED FOR ETHIC...</td>\n",
       "      <td>Don t you just love an entitled IRS lawyer who...</td>\n",
       "      <td>left-news</td>\n",
       "      <td>2015-04-04</td>\n",
       "      <td>fake</td>\n",
       "    </tr>\n",
       "    <tr>\n",
       "      <th>21916</th>\n",
       "      <td>[VIDEO] 16 YR OLD ARRESTED For Violent Gang Be...</td>\n",
       "      <td>This is a sad commentary on a generation who h...</td>\n",
       "      <td>left-news</td>\n",
       "      <td>2015-04-04</td>\n",
       "      <td>fake</td>\n",
       "    </tr>\n",
       "    <tr>\n",
       "      <th>21917</th>\n",
       "      <td>“Non-violence hasn’t worked”…Reverend Sam Most...</td>\n",
       "      <td>Yeah that whole  taking up arms  thing seems t...</td>\n",
       "      <td>left-news</td>\n",
       "      <td>2015-04-01</td>\n",
       "      <td>fake</td>\n",
       "    </tr>\n",
       "    <tr>\n",
       "      <th>21918</th>\n",
       "      <td>WATCH DIRTY HARRY REID ON HIS LIE ABOUT ROMNEY...</td>\n",
       "      <td>In case you missed it Sen. Harry Reid (R-NV), ...</td>\n",
       "      <td>left-news</td>\n",
       "      <td>2015-03-31</td>\n",
       "      <td>fake</td>\n",
       "    </tr>\n",
       "    <tr>\n",
       "      <th>21919</th>\n",
       "      <td>HILLARY RODHAM NIXON: A CANDIDATE WITH MORE BA...</td>\n",
       "      <td>The irony here isn t lost on us. Hillary is be...</td>\n",
       "      <td>left-news</td>\n",
       "      <td>2015-03-31</td>\n",
       "      <td>fake</td>\n",
       "    </tr>\n",
       "  </tbody>\n",
       "</table>\n",
       "<p>4309 rows × 5 columns</p>\n",
       "</div>"
      ],
      "text/plain": [
       "                                                   title  \\\n",
       "17461  BARBRA STREISAND Gives Up On Dream Of Impeachi...   \n",
       "17462  WATCH: SENATOR LINDSEY GRAHAM DROPS BOMBSHELL…...   \n",
       "17463  “CONSERVATIVE GAY GUY” BLASTS Pence’s Aspen Ne...   \n",
       "17464  WHITE COLLEGE SNOWFLAKES Can ‘Identify’ As Bla...   \n",
       "17465  BILL NYE The FAKE Science Guy THREATENS Conser...   \n",
       "...                                                  ...   \n",
       "21915  ENTITLED IRS ETHICS LAWYER DISBARRED FOR ETHIC...   \n",
       "21916  [VIDEO] 16 YR OLD ARRESTED For Violent Gang Be...   \n",
       "21917  “Non-violence hasn’t worked”…Reverend Sam Most...   \n",
       "21918  WATCH DIRTY HARRY REID ON HIS LIE ABOUT ROMNEY...   \n",
       "21919  HILLARY RODHAM NIXON: A CANDIDATE WITH MORE BA...   \n",
       "\n",
       "                                                    text    subject  \\\n",
       "17461  Barbra Streisand was an Obama sycophant and on...  left-news   \n",
       "17462  Everyone suspected the sketchy Steele Dossier ...  left-news   \n",
       "17463  It s been said that good fences make good neig...  left-news   \n",
       "17464  The latest video from Campus Reform shows just...  left-news   \n",
       "17465  Friday on MSNBC, climate activist Bill Nye war...  left-news   \n",
       "...                                                  ...        ...   \n",
       "21915  Don t you just love an entitled IRS lawyer who...  left-news   \n",
       "21916  This is a sad commentary on a generation who h...  left-news   \n",
       "21917  Yeah that whole  taking up arms  thing seems t...  left-news   \n",
       "21918  In case you missed it Sen. Harry Reid (R-NV), ...  left-news   \n",
       "21919  The irony here isn t lost on us. Hillary is be...  left-news   \n",
       "\n",
       "            date label  \n",
       "17461 2017-12-31  fake  \n",
       "17462 2017-12-31  fake  \n",
       "17463 2017-12-30  fake  \n",
       "17464 2017-12-30  fake  \n",
       "17465 2017-12-30  fake  \n",
       "...          ...   ...  \n",
       "21915 2015-04-04  fake  \n",
       "21916 2015-04-04  fake  \n",
       "21917 2015-04-01  fake  \n",
       "21918 2015-03-31  fake  \n",
       "21919 2015-03-31  fake  \n",
       "\n",
       "[4309 rows x 5 columns]"
      ]
     },
     "execution_count": 15,
     "metadata": {},
     "output_type": "execute_result"
    }
   ],
   "source": [
    "all_news.query(\"subject == 'left-news'\")"
   ]
  },
  {
   "cell_type": "code",
   "execution_count": 16,
   "id": "30fc0316",
   "metadata": {},
   "outputs": [
    {
     "data": {
      "text/html": [
       "<div>\n",
       "<style scoped>\n",
       "    .dataframe tbody tr th:only-of-type {\n",
       "        vertical-align: middle;\n",
       "    }\n",
       "\n",
       "    .dataframe tbody tr th {\n",
       "        vertical-align: top;\n",
       "    }\n",
       "\n",
       "    .dataframe thead th {\n",
       "        text-align: right;\n",
       "    }\n",
       "</style>\n",
       "<table border=\"1\" class=\"dataframe\">\n",
       "  <thead>\n",
       "    <tr style=\"text-align: right;\">\n",
       "      <th></th>\n",
       "      <th>title</th>\n",
       "      <th>text</th>\n",
       "      <th>subject</th>\n",
       "      <th>date</th>\n",
       "      <th>label</th>\n",
       "    </tr>\n",
       "  </thead>\n",
       "  <tbody>\n",
       "  </tbody>\n",
       "</table>\n",
       "</div>"
      ],
      "text/plain": [
       "Empty DataFrame\n",
       "Columns: [title, text, subject, date, label]\n",
       "Index: []"
      ]
     },
     "execution_count": 16,
     "metadata": {},
     "output_type": "execute_result"
    }
   ],
   "source": [
    "# Limiting categories of Subjects to only 2 (politicsNews and worldnews)\n",
    "subject_replace = {'News':'other', \n",
    "                   'politics':'politicsNews', \n",
    "                   'left-news' : 'other',\n",
    "                   'Government News': 'politicsNews',\n",
    "                   'US_News': 'politicsNews',\n",
    "                   'Middle-east': 'worldnews' \n",
    "            }\n",
    "\n",
    "all_news = all_news.replace({\"subject\": subject_replace})\n",
    "\n",
    "#Test df to check subjects have been replaced\n",
    "all_news.query(\"subject == 'politics'\")"
   ]
  },
  {
   "cell_type": "code",
   "execution_count": 17,
   "id": "883a495e-9fe9-4b0c-b381-cf184c118429",
   "metadata": {},
   "outputs": [],
   "source": [
    "all_news.to_csv(\"data/processed/all_news.csv\", index=False)"
   ]
  }
 ],
 "metadata": {
  "kernelspec": {
   "display_name": "Python 3 (ipykernel)",
   "language": "python",
   "name": "python3"
  },
  "language_info": {
   "codemirror_mode": {
    "name": "ipython",
    "version": 3
   },
   "file_extension": ".py",
   "mimetype": "text/x-python",
   "name": "python",
   "nbconvert_exporter": "python",
   "pygments_lexer": "ipython3",
   "version": "3.10.8"
  },
  "vscode": {
   "interpreter": {
    "hash": "87e80593edd4808bea4470c9828883b3187473587a75262f49ea2ba91fabc2ee"
   }
  }
 },
 "nbformat": 4,
 "nbformat_minor": 5
}
