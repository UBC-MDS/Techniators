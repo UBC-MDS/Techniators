{
 "cells": [
  {
   "cell_type": "code",
   "execution_count": 44,
   "id": "d728417b-8a55-4230-ac7e-c459a9581e9e",
   "metadata": {},
   "outputs": [],
   "source": [
    "import pandas as pd\n",
    "import datetime as dt\n",
    "from datetime import datetime\n",
    "import numpy as np\n",
    "import copy\n",
    "import re\n",
    "import sys"
   ]
  },
  {
   "cell_type": "code",
   "execution_count": 45,
   "id": "660c3757-756c-4772-b8bd-5c8ba628f3b4",
   "metadata": {},
   "outputs": [],
   "source": [
    "fake = pd.read_csv(\"data/raw/Fake.csv\")\n",
    "real = pd.read_csv(\"data/raw/true.csv\")\n",
    "fake['label'] = 'fake'\n",
    "real['label'] = 'real'"
   ]
  },
  {
   "cell_type": "code",
   "execution_count": 46,
   "id": "050e302c-16a4-4b64-9736-74b6c49e124e",
   "metadata": {},
   "outputs": [
    {
     "data": {
      "text/plain": [
       "0     The head of a conservative Republican faction...\n",
       "1     Transgender people will be allowed for the fi...\n",
       "2     The special counsel investigation of links be...\n",
       "3     Trump campaign adviser George Papadopoulos to...\n",
       "4     President Donald Trump called on the U.S. Pos...\n",
       "5     The White House said on Friday it was set to ...\n",
       "6     President Donald Trump said on Thursday he be...\n",
       "7     While the Fake News loves to talk about my so...\n",
       "8     Together, we are MAKING AMERICA GREAT AGAIN! ...\n",
       "9     Alabama Secretary of State John Merrill said ...\n",
       "Name: text, dtype: object"
      ]
     },
     "execution_count": 46,
     "metadata": {},
     "output_type": "execute_result"
    }
   ],
   "source": [
    "#Clean text for real data only\n",
    "real.text = real.text.str.strip()\n",
    "fake.text = fake.text.str.strip()\n",
    "real['text'] = real['text'].str.replace('^(.*?)?\\s[-]', '', regex=True)\n",
    "real['text'].head(10)"
   ]
  },
  {
   "cell_type": "code",
   "execution_count": 47,
   "id": "c718f7a6-80b5-46bf-9a1d-c42aeee76283",
   "metadata": {},
   "outputs": [],
   "source": [
    "#real['text'].iloc[1151]"
   ]
  },
  {
   "cell_type": "code",
   "execution_count": 48,
   "id": "b98ea094-490a-4ee3-9fab-87df077837d8",
   "metadata": {},
   "outputs": [
    {
     "data": {
      "text/plain": [
       "title      0\n",
       "text       0\n",
       "subject    0\n",
       "date       0\n",
       "label      0\n",
       "dtype: int64"
      ]
     },
     "execution_count": 48,
     "metadata": {},
     "output_type": "execute_result"
    }
   ],
   "source": [
    "# Combining datasets\n",
    "all_news = pd.concat([real, fake])\n",
    "all_news = all_news.replace(r'^\\s*$', np.nan, regex=True)\n",
    "all_news = all_news.dropna(subset=['text'])\n",
    "all_news.isna().sum()"
   ]
  },
  {
   "cell_type": "code",
   "execution_count": 49,
   "id": "608f3476-b1bf-4fe9-a1d5-f4170a3916da",
   "metadata": {},
   "outputs": [
    {
     "data": {
      "text/plain": [
       "title       0\n",
       "text        0\n",
       "subject     0\n",
       "date       10\n",
       "label       0\n",
       "dtype: int64"
      ]
     },
     "execution_count": 49,
     "metadata": {},
     "output_type": "execute_result"
    }
   ],
   "source": [
    "# Cleaning date column\n",
    "all_news.date = all_news.date.str.strip()\n",
    "\n",
    "match_condn = r'\\b([0-9])\\b'\n",
    "replace_str = r'0\\1'\n",
    "all_news['date'] = all_news['date'].str.replace(match_condn, replace_str, regex=True)\n",
    "\n",
    "replacement = {\n",
    "    \"^Jan\\s\": \"January \",\n",
    "    \"^Feb\\s\": \"February \",\n",
    "    \"^Mar\\s\": \"March \",\n",
    "    \"^Apr\\s\": \"April \",\n",
    "    \"^Jun\\s\": \"June \",\n",
    "    \"^Jul\\s\": \"July \",\n",
    "    \"^Aug\\s\": \"August \",\n",
    "    \"^Sep\\s\": \"September \",\n",
    "    \"^Oct\\s\": \"October \",\n",
    "    \"^Nov\\s\": \"November \",\n",
    "    \"^Dec\\s\": \"December \",\n",
    "    \"14[-]Feb[-]18$\": \"February 14, 2018\",\n",
    "    \"15[-]Feb[-]18$\": \"February 15, 2018\",\n",
    "    \"16[-]Feb[-]18$\": \"February 16, 2018\",\n",
    "    \"17[-]Feb[-]18$\": \"February 17, 2018\",\n",
    "    \"18[-]Feb[-]18$\": \"February 18, 2018\",\n",
    "    \"19[-]Feb[-]18$\": \"February 19, 2018\",\n",
    "}\n",
    "\n",
    "all_news['date'] = all_news['date'].replace(replacement, regex=True)\n",
    "\n",
    "# Converting date column to datetime\n",
    "all_news['date'] = pd.to_datetime(all_news['date'], format='%B %d, %Y', errors='coerce')\n",
    "all_news.isna().sum() #10 columns are empty because they were not dates in the first place"
   ]
  },
  {
   "cell_type": "code",
   "execution_count": 50,
   "id": "27c0ce30-0493-4f1d-aa16-964e102c2166",
   "metadata": {},
   "outputs": [
    {
     "data": {
      "text/html": [
       "<div>\n",
       "<style scoped>\n",
       "    .dataframe tbody tr th:only-of-type {\n",
       "        vertical-align: middle;\n",
       "    }\n",
       "\n",
       "    .dataframe tbody tr th {\n",
       "        vertical-align: top;\n",
       "    }\n",
       "\n",
       "    .dataframe thead th {\n",
       "        text-align: right;\n",
       "    }\n",
       "</style>\n",
       "<table border=\"1\" class=\"dataframe\">\n",
       "  <thead>\n",
       "    <tr style=\"text-align: right;\">\n",
       "      <th></th>\n",
       "      <th>title</th>\n",
       "      <th>text</th>\n",
       "      <th>subject</th>\n",
       "      <th>date</th>\n",
       "      <th>label</th>\n",
       "    </tr>\n",
       "  </thead>\n",
       "  <tbody>\n",
       "  </tbody>\n",
       "</table>\n",
       "</div>"
      ],
      "text/plain": [
       "Empty DataFrame\n",
       "Columns: [title, text, subject, date, label]\n",
       "Index: []"
      ]
     },
     "execution_count": 50,
     "metadata": {},
     "output_type": "execute_result"
    }
   ],
   "source": [
    "# Limiting categories of Subjects to only 2 (politicsNews and worldnews)\n",
    "all_news.query(\"subject == 'left-news'\")\n",
    "\n",
    "subject_replace = {'News':'other', \n",
    "                   'politics':'politicsNews', \n",
    "                   'left-news' : 'other',\n",
    "                   'Government News': 'politicsNews',\n",
    "                   'US_News': 'politicsNews',\n",
    "                   'Middle-east': 'worldnews' \n",
    "            }\n",
    "\n",
    "all_news = all_news.replace({\"subject\": subject_replace})\n",
    "\n",
    "#Test df to check subjects have been replaced\n",
    "all_news.query(\"subject == 'politics'\")"
   ]
  },
  {
   "cell_type": "code",
   "execution_count": 51,
   "id": "1aad34b2-8af1-41e3-b893-911e52bbeb43",
   "metadata": {},
   "outputs": [],
   "source": [
    "#all_copy = copy.deepcopy(all_news)"
   ]
  },
  {
   "cell_type": "code",
   "execution_count": 52,
   "id": "018149a3-1e92-4b97-85e6-69f367a5a12d",
   "metadata": {},
   "outputs": [],
   "source": [
    "#all_copy['text'].head(10)"
   ]
  },
  {
   "cell_type": "code",
   "execution_count": 53,
   "id": "c06b4a28-0192-4aec-92f4-df623dfcc640",
   "metadata": {},
   "outputs": [],
   "source": [
    "#all_copy.to_csv(\"all_copy.csv\", index=False)"
   ]
  },
  {
   "cell_type": "code",
   "execution_count": 54,
   "id": "883a495e-9fe9-4b0c-b381-cf184c118429",
   "metadata": {},
   "outputs": [],
   "source": [
    "all_news.to_csv(\"data/processed/all_news.csv\", index=False)"
   ]
  }
 ],
 "metadata": {
  "kernelspec": {
   "display_name": "Python 3 (ipykernel)",
   "language": "python",
   "name": "python3"
  },
  "language_info": {
   "codemirror_mode": {
    "name": "ipython",
    "version": 3
   },
   "file_extension": ".py",
   "mimetype": "text/x-python",
   "name": "python",
   "nbconvert_exporter": "python",
   "pygments_lexer": "ipython3",
   "version": "3.10.8"
  },
  "vscode": {
   "interpreter": {
    "hash": "87e80593edd4808bea4470c9828883b3187473587a75262f49ea2ba91fabc2ee"
   }
  }
 },
 "nbformat": 4,
 "nbformat_minor": 5
}
